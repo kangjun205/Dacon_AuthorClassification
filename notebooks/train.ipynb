{
 "cells": [
  {
   "cell_type": "code",
   "execution_count": null,
   "metadata": {},
   "outputs": [],
   "source": [
    "### only colab\n",
    "# ! git clone 'https://github.com/kangjun205/Dacon_AuthorClassification.git'\n",
    "# %cd Dacon_AuthorClassification"
   ]
  },
  {
   "cell_type": "code",
   "execution_count": null,
   "metadata": {},
   "outputs": [],
   "source": [
    "import datetime\n",
    "import sys\n",
    "import os\n",
    "\n",
    "import numpy as np\n",
    "import pandas as pd\n",
    "import wandb\n",
    "import torch\n",
    "import torch.nn as nn\n",
    "import torch.nn.functional as F\n",
    "from sklearn.model_selection import train_test_split\n",
    "from transformers import get_linear_schedule_with_warmup\n",
    "\n",
    "# ## only local\n",
    "# sys.path.append('..')\n",
    "\n",
    "from utils.clean import clean_texts\n",
    "from utils.tokenizer import get_tokenizer\n",
    "from utils.util import save_model, set_seed\n",
    "\n",
    "from data.dataloader import get_dataloader\n",
    "from data.datasets import TextDataset\n",
    "\n",
    "from src.loss import MultiLabelLoss\n",
    "from src.model import BertForMultiLabelClassification\n",
    "from tqdm import tqdm"
   ]
  },
  {
   "cell_type": "markdown",
   "metadata": {},
   "source": [
    "# Reading"
   ]
  },
  {
   "cell_type": "code",
   "execution_count": null,
   "metadata": {},
   "outputs": [],
   "source": [
    "train = pd.read_csv('train.csv')\n",
    "train.drop(columns = ['index'], inplace = True)\n",
    "train.head()"
   ]
  },
  {
   "cell_type": "markdown",
   "metadata": {},
   "source": [
    "# Setting"
   ]
  },
  {
   "cell_type": "code",
   "execution_count": null,
   "metadata": {},
   "outputs": [],
   "source": [
    "! wandb login"
   ]
  },
  {
   "cell_type": "code",
   "execution_count": null,
   "metadata": {},
   "outputs": [],
   "source": [
    "NUM_LABELS = 5\n",
    "SEED = 42\n",
    "set_seed(SEED)"
   ]
  },
  {
   "cell_type": "markdown",
   "metadata": {},
   "source": [
    "# Preprocessing"
   ]
  },
  {
   "cell_type": "code",
   "execution_count": null,
   "metadata": {},
   "outputs": [],
   "source": [
    "## train - valid split\n",
    "train_indices, valid_indices = train_test_split(range(len(train)), test_size=0.2, random_state=42)\n",
    "\n",
    "train_data = [train['text'].iloc[i] for i in train_indices] ## input text\n",
    "train_target = [train['author'].iloc[i] for i in train_indices] ## target label\n",
    "\n",
    "valid_data = [train['text'].iloc[i] for i in valid_indices] ## input text\n",
    "valid_target = [train['author'].iloc[i] for i in valid_indices] ## target label\n",
    "\n",
    "## cleaning\n",
    "train_data = clean_texts(train_data)\n",
    "valid_data = clean_texts(valid_data)"
   ]
  },
  {
   "cell_type": "markdown",
   "metadata": {},
   "source": [
    "# Train"
   ]
  },
  {
   "cell_type": "code",
   "execution_count": null,
   "metadata": {},
   "outputs": [],
   "source": [
    "def train(config = None) :\n",
    "    with wandb.init(config = config) :\n",
    "        config = wandb.config\n",
    "\n",
    "        ## tokenizer\n",
    "        tokenizer = get_tokenizer()\n",
    "\n",
    "        ## dataloader\n",
    "        train_dataloader = get_dataloader(train_data, train_target, tokenizer, config['MAX_LEN'], config['BATCH_SIZE'], shuffle = True)\n",
    "        valid_dataloader = get_dataloader(valid_data, valid_target, tokenizer, config['MAX_LEN'], config['BATCH_SIZE'], shuffle = True)\n",
    "        \n",
    "        ## model\n",
    "        model = BertForMultiLabelClassification(NUM_LABELS, config['NUM_HIDDEN'])\n",
    "        model.to('cuda' if torch.cuda.is_available() else 'cpu')\n",
    "\n",
    "        ## loss & optimizer\n",
    "        criterion = MultiLabelLoss()\n",
    "        optimizer = torch.optim.Adam(model.classifier.parameters(), lr = config['LEARNING_RATE'])\n",
    "\n",
    "        ## learning rate scheduler\n",
    "        total_steps = len(train_dataloader) * config['EPOCHS']\n",
    "        scheduler = get_linear_schedule_with_warmup(\n",
    "            optimizer,\n",
    "            num_warmup_steps = 0,\n",
    "            num_training_steps = total_steps\n",
    "        )\n",
    "\n",
    "        ## minimum validataion loss setting\n",
    "        val_loss_min = 1e+05\n",
    "\n",
    "        device = torch.device('cuda' if torch.cuda.is_available() else 'cpu')\n",
    "        for epoch in range(config['EPOCHS']):\n",
    "            model.train() ## training\n",
    "            train_loss = 0\n",
    "            for batch in tqdm(train_dataloader, desc=f\"Epoch {epoch+1}/{config['EPOCHS']} - Training\"):\n",
    "                input_ids = batch['input_ids'].to(device) ## input text\n",
    "                attention_mask = batch['attention_mask'].to(device) ## mask for padding\n",
    "                labels = F.one_hot(batch['labels'].squeeze(), num_classes = 5).to(device) ## target label\n",
    "\n",
    "                optimizer.zero_grad()\n",
    "                outputs = model(input_ids, attention_mask) ## batch_size X num_labels\n",
    "                loss = criterion(outputs, labels.float())\n",
    "                train_loss += loss.item()\n",
    "                loss.backward()\n",
    "                optimizer.step()\n",
    "                scheduler.step()\n",
    "\n",
    "            ## logging\n",
    "            wandb.log({'train_loss' : train_loss/config['BATCH_SIZE']})\n",
    "\n",
    "            model.eval() ## evaluating\n",
    "            val_loss = 0\n",
    "            with torch.no_grad():\n",
    "                for batch in tqdm(valid_dataloader, desc=f\"Epoch {epoch+1}/{config['EPOCHS']} - Validation\"):\n",
    "                    input_ids = batch['input_ids'].to(device) ## input text\n",
    "                    attention_mask = batch['attention_mask'].to(device) ## mask for padding\n",
    "                    labels = F.one_hot(batch['labels'].squeeze(), num_classes = 5).to(device) ## target label\n",
    "\n",
    "                    outputs = model(input_ids, attention_mask) ## batch_size X num_labels\n",
    "                    loss = criterion(outputs, labels.float())\n",
    "                    val_loss += loss.item()\n",
    "\n",
    "            ## logging\n",
    "            wandb.log({'valid_loss' : val_loss/config['BATCH_SIZE']})\n",
    "            print(f\"Epoch {epoch+1}/{config['EPOCHS']}, Validation Loss: {val_loss/len(valid_dataloader)}\")\n",
    "\n",
    "            ## check point\n",
    "            if val_loss < val_loss_min and epoch > config['EPOCHS']/2 :\n",
    "                ## validation loss가 최저점을 갱신한 경우 chekout point 생성\n",
    "                ## epoch 반 이상 돌린 경우에만 적용\n",
    "                val_loss_min = val_loss\n",
    "                now = datetime.datetime.now().strftime('%d%H%M')\n",
    "                save_model(model, f'BERT_{now}.pt')\n",
    "                wandb.save(f'BERT_{now}.pt')\n",
    "                print(f'model BERT_{now}.pt is saved')"
   ]
  },
  {
   "cell_type": "code",
   "execution_count": null,
   "metadata": {},
   "outputs": [],
   "source": [
    "# Sweep 설정\n",
    "sweep_config = {\n",
    "    'method': 'random',\n",
    "    'metric': {\n",
    "        'name': 'log loss',\n",
    "        'goal': 'minimize'   \n",
    "    },\n",
    "    'parameters': {\n",
    "        'BATCH_SIZE': {\n",
    "            'values': [32, 64]\n",
    "        },\n",
    "        'NUM_HIDDEN': {\n",
    "            'values': [32, 64, 128]\n",
    "        },\n",
    "        'LEARNING_RATE': {\n",
    "            'min': 0.0001,\n",
    "            'max': 0.1\n",
    "        },\n",
    "        'EPOCHS': {\n",
    "            'value': 10\n",
    "        },\n",
    "        'MAX_LEN': {\n",
    "            'value': 128\n",
    "        }\n",
    "    }\n",
    "}\n",
    "\n",
    "# Sweep 초기화 및 실행\n",
    "sweep_id = wandb.sweep(sweep_config, project=\"Dacon_AuthorClassification\")\n",
    "wandb.agent(sweep_id, train, count=5)"
   ]
  }
 ],
 "metadata": {
  "kernelspec": {
   "display_name": "Python 3",
   "language": "python",
   "name": "python3"
  },
  "language_info": {
   "name": "python",
   "version": "3.12.3"
  }
 },
 "nbformat": 4,
 "nbformat_minor": 2
}
