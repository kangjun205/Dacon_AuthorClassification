{
 "cells": [
  {
   "cell_type": "code",
   "execution_count": null,
   "metadata": {},
   "outputs": [],
   "source": [
    "### only colab\n",
    "# ! git clone 'https://github.com/kangjun205/Dacon_AuthorClassification.git'\n",
    "# %cd Dacon_AuthorClassification"
   ]
  },
  {
   "cell_type": "code",
   "execution_count": null,
   "metadata": {},
   "outputs": [],
   "source": [
    "import datetime\n",
    "import sys\n",
    "\n",
    "import numpy as np\n",
    "import pandas as pd\n",
    "import wandb\n",
    "import torch\n",
    "import torch.nn as nn\n",
    "import torch.nn.functional as F\n",
    "from sklearn.model_selection import train_test_split\n",
    "from transformers import get_linear_schedule_with_warmup\n",
    "\n",
    "from utils.clean import clean_texts\n",
    "from utils.tokenizer import get_tokenizer\n",
    "from utils.util import save_model, set_seed\n",
    "\n",
    "from data.dataloader import get_dataloader\n",
    "from data.datasets import TextDataset\n",
    "\n",
    "from src.loss import MultiLabelLoss\n",
    "from src.model import BertForMultiLabelClassification"
   ]
  },
  {
   "cell_type": "markdown",
   "metadata": {},
   "source": [
    "# Reading"
   ]
  },
  {
   "cell_type": "code",
   "execution_count": null,
   "metadata": {},
   "outputs": [],
   "source": [
    "train = pd.read_csv('train.csv')\n",
    "train.drop(columns = ['index'], inplace = True)\n",
    "train.head()"
   ]
  },
  {
   "cell_type": "markdown",
   "metadata": {},
   "source": [
    "# Config"
   ]
  },
  {
   "cell_type": "code",
   "execution_count": null,
   "metadata": {},
   "outputs": [],
   "source": [
    "params = {\n",
    "    'NUM_LABELS' : 5,\n",
    "    'MAX_LEN' : 128,\n",
    "    'BATCH_SIZE' : 32,\n",
    "    'EPOCHS' : 5,\n",
    "    'LEARNING_RATE' : 1e-3,\n",
    "    'SEED' : 42\n",
    "}\n",
    "model_name = 'bert'\n",
    "\n",
    "## seed value setting\n",
    "set_seed(params['SEED'])"
   ]
  },
  {
   "cell_type": "markdown",
   "metadata": {},
   "source": [
    "# Preprocessing"
   ]
  },
  {
   "cell_type": "code",
   "execution_count": null,
   "metadata": {},
   "outputs": [],
   "source": [
    "## train - valid split\n",
    "train_indices, valid_indices = train_test_split(range(len(train)), test_size=0.2, random_state=42)\n",
    "\n",
    "train_data = [train['text'].iloc[i] for i in train_indices] ## input text\n",
    "train_target = [train['author'].iloc[i] for i in train_indices] ## target label\n",
    "\n",
    "valid_data = [train['text'].iloc[i] for i in valid_indices] ## input text\n",
    "valid_target = [train['author'].iloc[i] for i in valid_indices] ## target label\n",
    "\n",
    "## cleaning\n",
    "train_data = clean_texts(train_data)\n",
    "valid_data = clean_texts(valid_data)\n",
    "\n",
    "## tokenization\n",
    "tokenizer = get_tokenizer()\n",
    "\n",
    "train_dataloader = get_dataloader(train_data, train_target, tokenizer, params['MAX_LEN'], params['BATCH_SIZE'], shuffle = True)\n",
    "valid_dataloader = get_dataloader(valid_data, valid_target, tokenizer, params['MAX_LEN'], params['BATCH_SIZE'], shuffle = True)"
   ]
  },
  {
   "cell_type": "markdown",
   "metadata": {},
   "source": [
    "# Training"
   ]
  },
  {
   "cell_type": "code",
   "execution_count": null,
   "metadata": {},
   "outputs": [],
   "source": [
    "## model\n",
    "model = BertForMultiLabelClassification(params['NUM_LABELS'])\n",
    "model.to('cuda' if torch.cuda.is_available() else 'cpu')\n",
    "\n",
    "## loss & optimizer\n",
    "criterion = MultiLabelLoss()\n",
    "optimizer = torch.optim.Adam(model.classifier.parameters(), lr = params['LEARNING_RATE'])\n",
    "\n",
    "## learning rate scheduler\n",
    "total_steps = len(train_dataloader) * params['EPOCHS']\n",
    "scheduler = get_linear_schedule_with_warmup(\n",
    "    optimizer,\n",
    "    num_warmup_steps = 0,\n",
    "    num_training_steps = total_steps\n",
    ")\n",
    "\n",
    "## logging\n",
    "wandb.init(project = 'Dacon_AuthorClassification')\n",
    "wandb.config.update(params)\n",
    "\n",
    "\n",
    "device = torch.device('cuda' if torch.cuda.is_available() else 'cpu')\n",
    "for epoch in range(params['EPOCHS']):\n",
    "    model.train() ## training\n",
    "    train_loss = 0\n",
    "    for batch in train_dataloader:\n",
    "        input_ids = batch['input_ids'].to(device) ## input text\n",
    "        attention_mask = batch['attention_mask'].to(device) ## mask for padding\n",
    "        labels = F.one_hot(batch['labels'].squeeze(), num_classes = 5).to(device) ## target label\n",
    "\n",
    "        optimizer.zero_grad()\n",
    "        outputs = model(input_ids, attention_mask) ## batch_size X num_labels\n",
    "        loss = criterion(outputs, labels.float())\n",
    "        loss.backward()\n",
    "        optimizer.step()\n",
    "        scheduler.step()\n",
    "\n",
    "    ## logging\n",
    "    wandb.log({'train_loss' : train_loss/len(train_dataloader)})\n",
    "\n",
    "    model.eval() ## evaluating\n",
    "    val_loss = 0\n",
    "    with torch.no_grad():\n",
    "        for batch in valid_dataloader:\n",
    "            input_ids = batch['input_ids'].to(device) ## input text\n",
    "            attention_mask = batch['attention_mask'].to(device) ## mask for padding\n",
    "            labels = F.one_hot(batch['labels'].squeeze(), num_classes = 5).to(device) ## target label\n",
    "\n",
    "            outputs = model(input_ids, attention_mask) ## batch_size X num_labels\n",
    "            loss = criterion(outputs, labels.float())\n",
    "            val_loss += loss.item()\n",
    "\n",
    "    ## logging\n",
    "    wandb.log({'valid_loss' : val_loss/len(valid_dataloader)})\n",
    "    print(f\"Epoch {epoch+1}/{params['EPOCHS']}, Validation Loss: {val_loss/len(valid_dataloader)}\")\n",
    "\n",
    "## model saving\n",
    "now = datetime.datetime.now().strftime('%d%H')\n",
    "save_model(model, f'{model_name}_{now}.pt')\n",
    "wandb.save(f'{model_name}_{now}.pt')"
   ]
  }
 ],
 "metadata": {
  "language_info": {
   "name": "python"
  }
 },
 "nbformat": 4,
 "nbformat_minor": 2
}
